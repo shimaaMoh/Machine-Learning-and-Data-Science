{
 "cells": [
  {
   "cell_type": "markdown",
   "metadata": {},
   "source": [
    "<h1 style = \"text-align: center;\"> Classification of Patients with Heart Failure </h1>"
   ]
  },
  {
   "cell_type": "markdown",
   "metadata": {},
   "source": [
    "## Introduction\n",
    "\n",
    "<p style = \"font-size: 1.2em; line-height: 2.2;\" > This project, predicts heart failure based on the patient clinical data. The data consists of 13 features and target to indicate patient survival. I used python programming language utilizing different packages that support machine learning modules and data analysis such as: pandas, seaborn, matplotlib, sklearn. This notebook consists of the following sections: </p>\n",
    "\n",
    "<ol>\n",
    "<h3 style = \"font-size: 1.2em; line-height: 2.4;\"> <li><a href = \"#data\">  Data Description  </a> </li> \n",
    "<li> <a href = \"#eda\"> Exploratory data analysis </a> </li>\n",
    "<li> <a href = \"#ml\" > Machine Learning Module Implementation</a> </li>\n",
    "<li> <a href = \"#eval\"> Algorithms Evaluation </a> </li> </h3>\n",
    "</ol>"
   ]
  },
  {
   "cell_type": "code",
   "execution_count": null,
   "metadata": {},
   "outputs": [],
   "source": [
    "import pandas as pd\n",
    "import numpy as np \n",
    "\n",
    "## Visualization Libraries\n",
    "import matplotlib.pyplot as plt\n",
    "import seaborn as sns\n",
    "from sklearn.metrics import plot_confusion_matrix\n",
    "\n",
    "## Machine Learning Libraries\n",
    "from sklearn.metrics import recall_score, precision_score , accuracy_score\n",
    "from sklearn import svm\n",
    "from sklearn.model_selection import train_test_split\n",
    "\n",
    "from sklearn.naive_bayes import GaussianNB   ### Check this \n",
    "from sklearn.naive_bayes import BernoulliNB\n",
    "\n",
    "from sklearn.metrics import confusion_matrix, classification_report\n",
    "sns.set_theme(style=\"ticks\")\n"
   ]
  },
  {
   "cell_type": "markdown",
   "metadata": {},
   "source": [
    "<a id = \"data\" > <h1> Data Description </h1> </a>"
   ]
  },
  {
   "cell_type": "markdown",
   "metadata": {},
   "source": [
    "<h2> General Description of the dataset </h2>\n",
    "    \n",
    "    \n",
    "    \n",
    "<p  style = \"font-size: 1.2em; line-height: 2.2;\"  >The data was collected as part of the study \"Survival Analysis of Heart Failure Patients: A case study\" [10] at the Faisalabad Institute of Cardiology and at the Allied Hospital in Faisalabad (Punjab, Pakistan), during April–December 2015. It consists of 299 patients of heart failure. The patients sufferd from left ventricular systolic dysfunction and falling in NYHA class III and IV [10].  </p>"
   ]
  },
  {
   "cell_type": "code",
   "execution_count": null,
   "metadata": {},
   "outputs": [],
   "source": [
    "heart_failure =  pd.read_csv(\"HeartFailureData.csv\")"
   ]
  },
  {
   "cell_type": "code",
   "execution_count": null,
   "metadata": {
    "scrolled": true
   },
   "outputs": [],
   "source": [
    "heart_failure.head()"
   ]
  },
  {
   "cell_type": "code",
   "execution_count": null,
   "metadata": {},
   "outputs": [],
   "source": [
    "heart_failure.tail()"
   ]
  },
  {
   "cell_type": "code",
   "execution_count": null,
   "metadata": {},
   "outputs": [],
   "source": [
    "heart_failure.describe()"
   ]
  },
  {
   "cell_type": "markdown",
   "metadata": {},
   "source": [
    "<h2> Clinical Features </h2>\n",
    "\n",
    "<p  style = \"font-size: 1.2em; line-height: 2.2;\" >This dataset consists of 13 features as shown in table below: </p>\n",
    "\n",
    "<img src = \"FeatureDescription.png\"> </img>\n",
    "\n",
    "\n",
    "<p>\n",
    "Image Reference [10]: \n",
    "Chicco, D., Jurman, G. Machine learning can predict survival of patients with heart failure from serum creatinine and ejection fraction alone. BMC Med Inform Decis Mak 20, 16 (2020). https://doi.org/10.1186/s12911-020-1023-5\n",
    "</p>"
   ]
  },
  {
   "cell_type": "code",
   "execution_count": null,
   "metadata": {},
   "outputs": [],
   "source": [
    "heart_failure.info()"
   ]
  },
  {
   "cell_type": "code",
   "execution_count": null,
   "metadata": {},
   "outputs": [],
   "source": [
    "## Checking for missing data\n",
    "heart_failure.isnull().sum()"
   ]
  },
  {
   "cell_type": "markdown",
   "metadata": {},
   "source": [
    "<a id = \"eda\"> <h1> Exploratory Data Analysis </h1> </a>"
   ]
  },
  {
   "cell_type": "code",
   "execution_count": null,
   "metadata": {},
   "outputs": [],
   "source": [
    "plt.figure(figsize=(13,10))\n",
    "\n",
    "## Correlation between features and death column\n",
    "sns.heatmap(heart_failure.corr(),annot=True, fmt = \".2f\", cmap = \"BuPu_r\")"
   ]
  },
  {
   "cell_type": "code",
   "execution_count": null,
   "metadata": {},
   "outputs": [],
   "source": [
    "# Checking if the data is balnced or not. ### Not Balanced \n",
    "\n",
    "plt.figure(figsize=(13,10))\n",
    "sns.histplot(heart_failure, x=\"Event\")"
   ]
  },
  {
   "cell_type": "code",
   "execution_count": null,
   "metadata": {},
   "outputs": [],
   "source": [
    "## Visualization of Age with gender in this data set \n",
    "plt.figure(figsize=(13,6))\n",
    "g = sns.kdeplot(heart_failure[\"Age\"][heart_failure[\"Event\"] == 1], color=\"Red\", shade = True)\n",
    "g = sns.kdeplot(heart_failure[\"Age\"][heart_failure[\"Event\"] == 0], ax =g, color=\"Blue\", shade= True)\n",
    "g.set_xlabel(\"Age\")\n",
    "g.set_ylabel(\"Frequency\")\n",
    "g.legend([\"Not Survived\",\"Survived\"])\n",
    "\n",
    "\n",
    "## https://www.kaggle.com/gopalj/heart-fail-analysis-with-ensemble-modeling/notebook"
   ]
  },
  {
   "cell_type": "code",
   "execution_count": null,
   "metadata": {},
   "outputs": [],
   "source": [
    "## Visualization of the features on dead and survived patients \n",
    "sns.displot(x='Sodium', data=heart_failure, kind= \"kde\" ,hue = \"Event\")\n",
    "sns.displot(x='CPK', data=heart_failure, kind= \"kde\" ,hue = \"Event\")"
   ]
  },
  {
   "cell_type": "code",
   "execution_count": null,
   "metadata": {},
   "outputs": [],
   "source": [
    "sns.displot( x='Ejection.Fraction', data=heart_failure, col= \"Anaemia\",kind= \"kde\" ,hue = \"Event\")\n",
    "sns.displot( x='Creatinine', data=heart_failure, col= \"Anaemia\", kind= \"kde\" ,hue = \"Event\")"
   ]
  },
  {
   "cell_type": "markdown",
   "metadata": {},
   "source": [
    "<a id = \"ml\"> <h1> Algorithms Implementation </h1> </a> "
   ]
  },
  {
   "cell_type": "code",
   "execution_count": null,
   "metadata": {},
   "outputs": [],
   "source": [
    "## Dividing the data into features and target \n",
    "\n",
    "target = heart_failure[\"Event\"]\n",
    "features = heart_failure.drop([\"Event\"] , axis= 1)\n",
    "\n",
    "## Dividing the data into training and testing \n",
    "\n",
    "feature_train, feature_test, target_train, target_test = train_test_split(features, target, test_size=0.30)\n",
    "\n",
    "## Number of Training Instances\n",
    "\n",
    "print(\"Training Examples: \", len(feature_train))\n",
    "print(\"Testing Examples: \", len(feature_test))"
   ]
  },
  {
   "cell_type": "markdown",
   "metadata": {},
   "source": [
    "### Naive Bayes (NB)  -- GussianNB"
   ]
  },
  {
   "cell_type": "code",
   "execution_count": null,
   "metadata": {},
   "outputs": [],
   "source": [
    "nb_classifier_gaussian = GaussianNB()\n",
    "\n",
    "nb_pred = nb_classifier_gaussian.fit(feature_train, target_train).predict(feature_test)"
   ]
  },
  {
   "cell_type": "code",
   "execution_count": null,
   "metadata": {},
   "outputs": [],
   "source": [
    "nb_classifier_gaussian.get_params(deep=True)"
   ]
  },
  {
   "cell_type": "code",
   "execution_count": null,
   "metadata": {},
   "outputs": [],
   "source": [
    "nb_pred"
   ]
  },
  {
   "cell_type": "markdown",
   "metadata": {},
   "source": [
    "### Support Vector Machine (SVM)"
   ]
  },
  {
   "cell_type": "markdown",
   "metadata": {},
   "source": [
    "####  NuSVC "
   ]
  },
  {
   "cell_type": "code",
   "execution_count": null,
   "metadata": {},
   "outputs": [],
   "source": [
    "nu_svc_classifier= svm.NuSVC()\n",
    "nu_svc_classifier.get_params(deep=True)"
   ]
  },
  {
   "cell_type": "code",
   "execution_count": 49,
   "metadata": {},
   "outputs": [
    {
     "data": {
      "text/plain": [
       "array([1, 0, 1, 1, 1, 1, 1, 1, 1, 0, 1, 1, 1, 1, 1, 1, 0, 1, 1, 1, 1, 0,\n",
       "       1, 1, 0, 0, 1, 1, 0, 1, 0, 1, 1, 0, 1, 0, 1, 0, 1, 0, 1, 1, 0, 0,\n",
       "       0, 1, 0, 1, 0, 0, 1, 0, 1, 0, 1, 0, 1, 1, 0, 0, 1, 1, 1, 1, 1, 0,\n",
       "       1, 1, 0, 1, 1, 1, 0, 1, 1, 1, 1, 1, 0, 0, 0, 1, 1, 0, 0, 0, 1, 1,\n",
       "       1, 1], dtype=int64)"
      ]
     },
     "execution_count": 49,
     "metadata": {},
     "output_type": "execute_result"
    }
   ],
   "source": [
    "nu_svc_prediction = nu_svc_classifier.fit(feature_train, target_train).predict(feature_test)\n",
    "nu_svc_prediction"
   ]
  },
  {
   "cell_type": "markdown",
   "metadata": {},
   "source": [
    "#### SVC"
   ]
  },
  {
   "cell_type": "code",
   "execution_count": 50,
   "metadata": {},
   "outputs": [
    {
     "data": {
      "text/plain": [
       "{'C': 0.05,\n",
       " 'break_ties': False,\n",
       " 'cache_size': 200,\n",
       " 'class_weight': None,\n",
       " 'coef0': 0.0,\n",
       " 'decision_function_shape': 'ovr',\n",
       " 'degree': 3,\n",
       " 'gamma': 'scale',\n",
       " 'kernel': 'rbf',\n",
       " 'max_iter': -1,\n",
       " 'probability': False,\n",
       " 'random_state': None,\n",
       " 'shrinking': True,\n",
       " 'tol': 0.001,\n",
       " 'verbose': False}"
      ]
     },
     "execution_count": 50,
     "metadata": {},
     "output_type": "execute_result"
    }
   ],
   "source": [
    "svc_model= svm.SVC(C = 0.0500)\n",
    "svc_model.get_params(deep=True)"
   ]
  },
  {
   "cell_type": "code",
   "execution_count": 51,
   "metadata": {},
   "outputs": [
    {
     "data": {
      "text/plain": [
       "array([0, 0, 0, 0, 0, 0, 0, 0, 0, 0, 0, 0, 0, 0, 0, 0, 0, 0, 0, 0, 0, 0,\n",
       "       0, 0, 0, 0, 0, 0, 0, 0, 0, 0, 0, 0, 0, 0, 0, 0, 0, 0, 0, 0, 0, 0,\n",
       "       0, 0, 0, 0, 0, 0, 0, 0, 0, 0, 0, 0, 0, 0, 0, 0, 0, 0, 0, 0, 0, 0,\n",
       "       0, 0, 0, 0, 0, 0, 0, 0, 0, 0, 0, 0, 0, 0, 0, 0, 0, 0, 0, 0, 0, 0,\n",
       "       0, 0], dtype=int64)"
      ]
     },
     "execution_count": 51,
     "metadata": {},
     "output_type": "execute_result"
    }
   ],
   "source": [
    "svc_pred = svc_model.fit(feature_train, target_train).predict(feature_test)\n",
    "svc_pred"
   ]
  },
  {
   "cell_type": "markdown",
   "metadata": {},
   "source": [
    "<a id = \"ml\"> <h1> Evaluation </h1> </a>"
   ]
  },
  {
   "cell_type": "markdown",
   "metadata": {},
   "source": [
    "<h2> The evaluation matrics are the following: </h2>\n",
    "<ol>\n",
    "<li> <b>Classification Accuracy:</b> Overall, how often is the classifier correct?; the proportion of the total number of predictions that were correct. </li>\n",
    "\n",
    "<li><b>Sensitivity or Recall: </b> When the actual value is positive, how often is the prediction correct?; the proportion of actual positive cases which are correctly identified. </li>\n",
    "\n",
    "<li><b>Specificity:</b> When the actual value is negative, how often is the prediction correct?; the proportion of actual negative cases which are correctly identified. </li>\n",
    "\n",
    "<li><b>Precision:</b> When a positive value is predicted, how often is the prediction correct?; the proportion of positive cases that were correctly identified. </li>\n",
    "\n",
    "</ol>"
   ]
  },
  {
   "cell_type": "code",
   "execution_count": 52,
   "metadata": {},
   "outputs": [],
   "source": [
    "# TP = confusion[1, 1]\n",
    "# TN = confusion[0, 0]\n",
    "# FP = confusion[0, 1]\n",
    "# FN = confusion[1, 0]\n",
    "\n",
    "# sensitivity (recall) = TP / float(FN + TP)\n",
    "# specificity = TN / (TN + FP)"
   ]
  },
  {
   "cell_type": "markdown",
   "metadata": {},
   "source": [
    "### NB"
   ]
  },
  {
   "cell_type": "code",
   "execution_count": 53,
   "metadata": {},
   "outputs": [
    {
     "name": "stdout",
     "output_type": "stream",
     "text": [
      "\n",
      "\n",
      "              precision    recall  f1-score   support\n",
      "\n",
      "           0       0.83      0.93      0.88        68\n",
      "           1       0.64      0.41      0.50        22\n",
      "\n",
      "    accuracy                           0.80        90\n",
      "   macro avg       0.74      0.67      0.69        90\n",
      "weighted avg       0.78      0.80      0.78        90\n",
      "\n"
     ]
    },
    {
     "data": {
      "image/png": "[encoded data removed]",
      "text/plain": [
       "<Figure size 1008x576 with 2 Axes>"
      ]
     },
     "metadata": {},
     "output_type": "display_data"
    }
   ],
   "source": [
    "nb_conf_matrix = confusion_matrix(y_true=target_test, y_pred= nb_pred)\n",
    "plt.figure(figsize= (14,8))\n",
    "ax= plt.subplot()\n",
    "sns.heatmap(nb_conf_matrix, annot= True ,annot_kws={\"size\": 20}, cmap= 'ocean_r', ax= ax)\n",
    "ax.set_xlabel('Predicted labels');\n",
    "ax.set_ylabel('True labels'); \n",
    "ax.set_title('Confusion Matrix'); \n",
    "print(\"\\n\")\n",
    "print(classification_report(y_true=target_test, y_pred= nb_pred))"
   ]
  },
  {
   "cell_type": "code",
   "execution_count": 54,
   "metadata": {},
   "outputs": [
    {
     "name": "stdout",
     "output_type": "stream",
     "text": [
      "NB Accuracy :  0.8\n",
      "NB Recall (Sensitivity):  0.4090909090909091\n",
      "NB Prcison :  0.6428571428571429\n",
      "NB Specificity :  0.9264705882352942\n"
     ]
    }
   ],
   "source": [
    "nb_accuracy = accuracy_score(y_true=target_test, y_pred= nb_pred) \n",
    "nb_recall = recall_score(y_true=target_test, y_pred= nb_pred)\n",
    "nb_prcison = precision_score(y_true=target_test, y_pred= nb_pred)\n",
    "nb_sensitivity = nb_conf_matrix[1,1]/(nb_conf_matrix[1,0] + nb_conf_matrix[1,1]) ######################## Correct\n",
    "nb_specificity = nb_conf_matrix[0,0]/(nb_conf_matrix[0,0] + nb_conf_matrix[0,1]) ######################## Correct\n",
    "nb_evaluation_value = [\"NB\", nb_accuracy, nb_prcison, nb_recall, nb_specificity]\n",
    "nb_evaluation_matric = [\"Classifier\", \"Accuracy\", \"Percision\", \"Recall\", \"Specificity\"]\n",
    "print('NB Accuracy : ', nb_accuracy)\n",
    "print('NB Recall (Sensitivity): ', nb_recall )\n",
    "print('NB Prcison : ', nb_prcison)\n",
    "print('NB Specificity : ', nb_specificity )"
   ]
  },
  {
   "cell_type": "markdown",
   "metadata": {},
   "source": [
    "### SVM"
   ]
  },
  {
   "cell_type": "code",
   "execution_count": 55,
   "metadata": {},
   "outputs": [
    {
     "name": "stdout",
     "output_type": "stream",
     "text": [
      "              precision    recall  f1-score   support\n",
      "\n",
      "           0       0.81      0.38      0.52        68\n",
      "           1       0.28      0.73      0.40        22\n",
      "\n",
      "    accuracy                           0.47        90\n",
      "   macro avg       0.54      0.55      0.46        90\n",
      "weighted avg       0.68      0.47      0.49        90\n",
      "\n"
     ]
    },
    {
     "data": {
      "image/png": "[encoded data removed]",
      "text/plain": [
       "<Figure size 1008x576 with 2 Axes>"
      ]
     },
     "metadata": {},
     "output_type": "display_data"
    }
   ],
   "source": [
    "nu_svc_conf_matrix = confusion_matrix(y_true=target_test, y_pred= nu_svc_prediction)\n",
    "plt.figure(figsize= (14,8))\n",
    "ax= plt.subplot()\n",
    "sns.heatmap(nu_svc_conf_matrix, annot= True ,annot_kws={\"size\": 16}, cmap= 'ocean_r', ax= ax)\n",
    "ax.set_xlabel('Predicted labels');\n",
    "ax.set_ylabel('True labels');\n",
    "ax.set_title(\"NuSVC Confusion Matric\")\n",
    "print(classification_report(y_true=target_test, y_pred= nu_svc_prediction))"
   ]
  },
  {
   "cell_type": "code",
   "execution_count": 56,
   "metadata": {},
   "outputs": [
    {
     "name": "stdout",
     "output_type": "stream",
     "text": [
      "NuSVC Accuracy :  0.4666666666666667\n",
      "NuSVC Recall (Sensitivity):  0.7272727272727273\n",
      "NuSVC Prcison :  0.27586206896551724\n",
      "NuSVC Specificity :  0.38235294117647056\n"
     ]
    }
   ],
   "source": [
    "nu_svc_acc = accuracy_score(y_true=target_test, y_pred= nu_svc_prediction) \n",
    "nu_svc_recall = recall_score(y_true=target_test, y_pred= nu_svc_prediction)\n",
    "nu_svc_percision = precision_score(y_true=target_test, y_pred= nu_svc_prediction)\n",
    "nu_svc_specificity  = nu_svc_conf_matrix[0,0]/(nu_svc_conf_matrix[0,0] + nu_svc_conf_matrix[0,1])\n",
    "\n",
    "\n",
    "nu_svc_evaluation_value = [ \"NuSVC\", nu_svc_acc, nu_svc_percision, nu_svc_recall, nu_svc_specificity]\n",
    "\n",
    "print('NuSVC Accuracy : ', nu_svc_acc)\n",
    "print('NuSVC Recall (Sensitivity): ', nu_svc_recall)\n",
    "print('NuSVC Prcison : ', nu_svc_percision)\n",
    "print('NuSVC Specificity : ', nu_svc_specificity)"
   ]
  },
  {
   "cell_type": "code",
   "execution_count": 57,
   "metadata": {},
   "outputs": [
    {
     "name": "stdout",
     "output_type": "stream",
     "text": [
      "              precision    recall  f1-score   support\n",
      "\n",
      "           0       0.76      1.00      0.86        68\n",
      "           1       0.00      0.00      0.00        22\n",
      "\n",
      "    accuracy                           0.76        90\n",
      "   macro avg       0.38      0.50      0.43        90\n",
      "weighted avg       0.57      0.76      0.65        90\n",
      "\n"
     ]
    },
    {
     "name": "stderr",
     "output_type": "stream",
     "text": [
      "C:\\Users\\shima\\Downloads\\New_Anaconda\\lib\\site-packages\\sklearn\\metrics\\_classification.py:1221: UndefinedMetricWarning: Precision and F-score are ill-defined and being set to 0.0 in labels with no predicted samples. Use `zero_division` parameter to control this behavior.\n",
      "  _warn_prf(average, modifier, msg_start, len(result))\n"
     ]
    },
    {
     "data": {
      "image/png": "[encoded data removed]",
      "text/plain": [
       "<Figure size 1008x576 with 2 Axes>"
      ]
     },
     "metadata": {},
     "output_type": "display_data"
    }
   ],
   "source": [
    "svc_conf_matrix = confusion_matrix(y_true=target_test, y_pred= svc_pred)\n",
    "plt.figure(figsize= (14,8))\n",
    "ax= plt.subplot()\n",
    "sns.heatmap(svc_conf_matrix, annot= True ,annot_kws={\"size\": 16}, cmap= 'ocean_r', ax= ax)\n",
    "ax.set_xlabel('Predicted labels');\n",
    "ax.set_ylabel('True labels');\n",
    "ax.set_title(\"SVC Confusion Matric\")\n",
    "print(classification_report(y_true=target_test, y_pred= svc_pred))"
   ]
  },
  {
   "cell_type": "code",
   "execution_count": 58,
   "metadata": {},
   "outputs": [
    {
     "name": "stdout",
     "output_type": "stream",
     "text": [
      "SVC Accuracy :  0.7555555555555555\n",
      "SVC Recall (Sensitivity) :  0.0\n",
      "SVC Prcison :  0.0\n",
      "SVC Specificity :  1.0\n"
     ]
    },
    {
     "name": "stderr",
     "output_type": "stream",
     "text": [
      "C:\\Users\\shima\\Downloads\\New_Anaconda\\lib\\site-packages\\sklearn\\metrics\\_classification.py:1221: UndefinedMetricWarning: Precision is ill-defined and being set to 0.0 due to no predicted samples. Use `zero_division` parameter to control this behavior.\n",
      "  _warn_prf(average, modifier, msg_start, len(result))\n"
     ]
    }
   ],
   "source": [
    "svc_acc = accuracy_score(y_true=target_test, y_pred= svc_pred) \n",
    "svc_recall = recall_score(y_true=target_test, y_pred= svc_pred)\n",
    "svc_percision = precision_score(y_true=target_test, y_pred= svc_pred)\n",
    "svc_specificity = svc_conf_matrix[0,0]/(svc_conf_matrix[0,0] + svc_conf_matrix[0,1])\n",
    "\n",
    "svc_evaluation_value = [ \"SVC\", svc_acc, svc_percision, svc_recall, svc_specificity]\n",
    "\n",
    "print('SVC Accuracy : ', svc_acc)\n",
    "print('SVC Recall (Sensitivity) : ', svc_recall)\n",
    "print('SVC Prcison : ', svc_percision)\n",
    "print('SVC Specificity : ', svc_specificity)"
   ]
  },
  {
   "cell_type": "code",
   "execution_count": 70,
   "metadata": {},
   "outputs": [
    {
     "data": {
      "text/html": [
       "<div>\n",
       "<style scoped>\n",
       "    .dataframe tbody tr th:only-of-type {\n",
       "        vertical-align: middle;\n",
       "    }\n",
       "\n",
       "    .dataframe tbody tr th {\n",
       "        vertical-align: top;\n",
       "    }\n",
       "\n",
       "    .dataframe thead th {\n",
       "        text-align: right;\n",
       "    }\n",
       "</style>\n",
       "<table border=\"1\" class=\"dataframe\">\n",
       "  <thead>\n",
       "    <tr style=\"text-align: right;\">\n",
       "      <th></th>\n",
       "      <th>Classifier</th>\n",
       "      <th>Accuracy</th>\n",
       "      <th>Percision</th>\n",
       "      <th>Recall</th>\n",
       "      <th>Specificity</th>\n",
       "    </tr>\n",
       "  </thead>\n",
       "  <tbody>\n",
       "    <tr>\n",
       "      <th>0</th>\n",
       "      <td>NB</td>\n",
       "      <td>0.800000</td>\n",
       "      <td>0.642857</td>\n",
       "      <td>0.409091</td>\n",
       "      <td>0.926471</td>\n",
       "    </tr>\n",
       "    <tr>\n",
       "      <th>1</th>\n",
       "      <td>NuSVC</td>\n",
       "      <td>0.466667</td>\n",
       "      <td>0.275862</td>\n",
       "      <td>0.727273</td>\n",
       "      <td>0.382353</td>\n",
       "    </tr>\n",
       "    <tr>\n",
       "      <th>2</th>\n",
       "      <td>SVC</td>\n",
       "      <td>0.755556</td>\n",
       "      <td>0.000000</td>\n",
       "      <td>0.000000</td>\n",
       "      <td>1.000000</td>\n",
       "    </tr>\n",
       "  </tbody>\n",
       "</table>\n",
       "</div>"
      ],
      "text/plain": [
       "  Classifier  Accuracy  Percision    Recall  Specificity\n",
       "0         NB  0.800000   0.642857  0.409091     0.926471\n",
       "1      NuSVC  0.466667   0.275862  0.727273     0.382353\n",
       "2        SVC  0.755556   0.000000  0.000000     1.000000"
      ]
     },
     "execution_count": 70,
     "metadata": {},
     "output_type": "execute_result"
    }
   ],
   "source": [
    "### Combining the matrics in one dataframe\n",
    "df = pd.DataFrame([nb_evaluation_value, nu_svc_evaluation_value, svc_evaluation_value], \n",
    "                  columns= nb_evaluation_matric)\n",
    "df"
   ]
  },
  {
   "cell_type": "code",
   "execution_count": 60,
   "metadata": {},
   "outputs": [
    {
     "data": {
      "text/plain": [
       "<matplotlib.axes._subplots.AxesSubplot at 0x1af700fbd88>"
      ]
     },
     "execution_count": 60,
     "metadata": {},
     "output_type": "execute_result"
    },
    {
     "data": {
      "image/png": "[encoded data removed]",
      "text/plain": [
       "<Figure size 1008x576 with 1 Axes>"
      ]
     },
     "metadata": {},
     "output_type": "display_data"
    }
   ],
   "source": [
    "plt.figure(figsize= (14,8))\n",
    "sns.barplot(x = \"Classifier\", y = \"Specificity\" , data= df)"
   ]
  },
  {
   "cell_type": "code",
   "execution_count": 61,
   "metadata": {},
   "outputs": [
    {
     "data": {
      "text/plain": [
       "<matplotlib.axes._subplots.AxesSubplot at 0x1af700cf908>"
      ]
     },
     "execution_count": 61,
     "metadata": {},
     "output_type": "execute_result"
    },
    {
     "data": {
      "image/png": "[encoded data removed]",
      "text/plain": [
       "<Figure size 1008x576 with 1 Axes>"
      ]
     },
     "metadata": {},
     "output_type": "display_data"
    }
   ],
   "source": [
    "plt.figure(figsize= (14,8))\n",
    "sns.barplot(x = \"Classifier\", y = \"Recall\" , data= df)"
   ]
  },
  {
   "cell_type": "code",
   "execution_count": 62,
   "metadata": {},
   "outputs": [
    {
     "data": {
      "text/plain": [
       "<matplotlib.axes._subplots.AxesSubplot at 0x1af6f805dc8>"
      ]
     },
     "execution_count": 62,
     "metadata": {},
     "output_type": "execute_result"
    },
    {
     "data": {
      "image/png": "[encoded data removed]",
      "text/plain": [
       "<Figure size 1008x576 with 1 Axes>"
      ]
     },
     "metadata": {},
     "output_type": "display_data"
    }
   ],
   "source": [
    "plt.figure(figsize= (14,8))\n",
    "sns.barplot(x = \"Classifier\", y = \"Percision\" , data= df)"
   ]
  },
  {
   "cell_type": "code",
   "execution_count": 63,
   "metadata": {},
   "outputs": [
    {
     "data": {
      "text/plain": [
       "<matplotlib.axes._subplots.AxesSubplot at 0x1af6f8451c8>"
      ]
     },
     "execution_count": 63,
     "metadata": {},
     "output_type": "execute_result"
    },
    {
     "data": {
      "image/png": "[encoded data removed]",
      "text/plain": [
       "<Figure size 1008x576 with 1 Axes>"
      ]
     },
     "metadata": {},
     "output_type": "display_data"
    }
   ],
   "source": [
    "plt.figure(figsize= (14,8))\n",
    "sns.barplot(x = \"Classifier\", y = \"Accuracy\" , data= df)"
   ]
  },
  {
   "cell_type": "markdown",
   "metadata": {},
   "source": [
    "## References \n",
    "\n",
    "1. https://scikit-learn.org/stable/modules/naive_bayes.html#\n",
    "\n",
    "2. https://scikit-learn.org/stable/modules/generated/sklearn.svm.SVC.html\n",
    "\n",
    "3. https://scikit-learn.org/stable/\n",
    "\n",
    "4. https://scikit-learn.org/stable/modules/naive_bayes.html\n",
    "\n",
    "5. https://scikit-learn.org/stable/modules/svm.html\n",
    "\n",
    "6. https://statinfer.com/204-4-2-calculating-sensitivity-and-specificity-in-python/\n",
    "\n",
    "7. https://www.ritchieng.com/machine-learning-evaluate-classification-model/\n",
    "\n",
    "8. https://www.vebuso.com/2020/03/svm-hyperparameter-tuning-using-gridsearchcv/\n",
    "\n",
    "9. Chicco, D., Jurman, G. Machine learning can predict survival of patients with heart failure from serum creatinine and ejection fraction alone. BMC Med Inform Decis Mak 20, 16 (2020). https://doi.org/10.1186/s12911-020-1023-5\n",
    "\n",
    "10. Article Source: Survival analysis of heart failure patients: A case study\n",
    "Ahmad T, Munir A, Bhatti SH, Aftab M, Raza MA (2017) Survival analysis of heart failure patients: A case study. PLOS ONE 12(7): e0181001. https://doi.org/10.1371/journal.pone.0181001"
   ]
  }
 ],
 "metadata": {
  "kernelspec": {
   "display_name": "Python 3",
   "language": "python",
   "name": "python3"
  },
  "language_info": {
   "codemirror_mode": {
    "name": "ipython",
    "version": 3
   },
   "file_extension": ".py",
   "mimetype": "text/x-python",
   "name": "python",
   "nbconvert_exporter": "python",
   "pygments_lexer": "ipython3",
   "version": "3.7.6"
  }
 },
 "nbformat": 4,
 "nbformat_minor": 4
}
